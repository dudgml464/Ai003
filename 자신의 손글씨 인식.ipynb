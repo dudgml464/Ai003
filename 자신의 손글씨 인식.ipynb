{
 "cells": [
  {
   "cell_type": "code",
   "execution_count": 40,
   "metadata": {},
   "outputs": [],
   "source": [
    "import tensorflow as tf\n",
    "import numpy as np\n",
    "import matplotlib.pyplot as plt"
   ]
  },
  {
   "cell_type": "code",
   "execution_count": 41,
   "metadata": {},
   "outputs": [],
   "source": [
    "#데이터 로드 및 train / test set 나누기.\n",
    "\n",
    "mnist = tf.keras.datasets.mnist\n",
    "(x_train, y_train), (x_test, y_test) = mnist.load_data()\n",
    "x_train, x_test = x_train / 255.0, x_test / 255.0"
   ]
  },
  {
   "cell_type": "code",
   "execution_count": 42,
   "metadata": {},
   "outputs": [
    {
     "data": {
      "image/png": "[encoded data removed]",
      "text/plain": [
       "<Figure size 720x720 with 25 Axes>"
      ]
     },
     "metadata": {},
     "output_type": "display_data"
    }
   ],
   "source": [
    "# train set 이미지 확인과 label 확인 ( 예시로 보기 위해 25개만 설정)\n",
    "plt.figure(figsize=(10,10))\n",
    "for i in range(25):\n",
    "    plt.subplot(5,5,i+1)\n",
    "    plt.xticks([])\n",
    "    plt.yticks([])\n",
    "    plt.grid(False)\n",
    "    plt.imshow(x_train[i], cmap=plt.cm.binary)\n",
    "    plt.xlabel(y_train[i])\n",
    "plt.show()\n"
   ]
  },
  {
   "cell_type": "markdown",
   "metadata": {},
   "source": [
    "Dense 레이어는 입력과 출력을 모두 연결해주며, \n",
    "입력과 출력을 각각 연결해주는 가중치를 포함하고 있다. 즉, 입력이 4개, 출력이 8개라면 가중치는 총 32개가 존재한다.  \n",
    "그리고 이 Dense 레이어는 가장 머신러닝에 \n",
    "기본적인 층으로 영상이나 서로 연속적으로 상관관계가 있는 데이터가 아니라면 이 층을 통해 학습 시킬 수 있는 데이터가 많다.\n",
    "\n",
    "activaiton 에서는 무엇을 사용할 지 고민을 많이 할 수 있는데, 'relu' 는 은닉층으로 역전파를 통해 좋은 성능이 나오기 때문에 마지막 \n",
    "층이 아니고서야 거의 relu 를 이용한다.\n",
    "\n",
    "마지막 층에서는 'sigmond' 와 'softmax' 를 사용함으로서 sigmond 는 'yes or no' 와 같은 이진 분류, softmax 는 확률 값을 \n",
    "내뱉어내 다양한 것을 분류하기 위함이다.\n",
    "\n",
    "즉, 당도, 나트륨, 구성 요소 등을 보고 콜라, 사이다, 환타를 구별해내려면 'softmax', \n",
    "공기 구성 요소를 보고 '미세먼지 경보냐? 아니냐?'는 sigmond 를 이용하게 된다."
   ]
  },
  {
   "cell_type": "code",
   "execution_count": 43,
   "metadata": {},
   "outputs": [],
   "source": [
    "#model\n",
    "model = tf.keras.models.Sequential([\n",
    "        tf.keras.layers.Flatten(input_shape=(28,28)),\n",
    "        tf.keras.layers.Dense(128, activation='relu'),\n",
    "        tf.keras.layers.Dropout(0.2),\n",
    "        tf.keras.layers.Dense(30, activation='relu'),\n",
    "        tf.keras.layers.BatchNormalization(),\n",
    "        tf.keras.layers.Dropout(0.2),\n",
    "        tf.keras.layers.Dense(10, activation='softmax')])"
   ]
  },
  {
   "cell_type": "code",
   "execution_count": 44,
   "metadata": {},
   "outputs": [],
   "source": [
    "model.compile(optimizer =tf.keras.optimizers.Adam(0.001),\n",
    "              loss='sparse_categorical_crossentropy',\n",
    "              metrics=['accuracy'])"
   ]
  },
  {
   "cell_type": "code",
   "execution_count": 45,
   "metadata": {},
   "outputs": [],
   "source": [
    "#sparse_categorical_crossentropy << label이 정수로 인코딩 되었을 때 사용합니다. \n",
    "#categorical_crossentropy << label이 one_hot 인코딩 되었을 때 사용합니다."
   ]
  },
  {
   "cell_type": "code",
   "execution_count": 46,
   "metadata": {
    "scrolled": true
   },
   "outputs": [
    {
     "name": "stdout",
     "output_type": "stream",
     "text": [
      "Epoch 1/20\n",
      "60/60 [==============================] - 7s 72ms/step - loss: 0.9449 - accuracy: 0.7210 - val_loss: 0.8812 - val_accuracy: 0.8959\n",
      "Epoch 2/20\n",
      "60/60 [==============================] - 3s 52ms/step - loss: 0.3913 - accuracy: 0.9003 - val_loss: 0.4801 - val_accuracy: 0.9361\n",
      "Epoch 3/20\n",
      "60/60 [==============================] - 3s 51ms/step - loss: 0.2741 - accuracy: 0.9291 - val_loss: 0.2755 - val_accuracy: 0.9519\n",
      "Epoch 4/20\n",
      "60/60 [==============================] - 3s 55ms/step - loss: 0.2109 - accuracy: 0.9445 - val_loss: 0.1750 - val_accuracy: 0.9608\n",
      "Epoch 5/20\n",
      "60/60 [==============================] - 4s 59ms/step - loss: 0.1768 - accuracy: 0.9522 - val_loss: 0.1319 - val_accuracy: 0.9632\n",
      "Epoch 6/20\n",
      "60/60 [==============================] - 3s 53ms/step - loss: 0.1541 - accuracy: 0.9582 - val_loss: 0.1115 - val_accuracy: 0.9680\n",
      "Epoch 7/20\n",
      "60/60 [==============================] - 4s 59ms/step - loss: 0.1348 - accuracy: 0.9624 - val_loss: 0.0988 - val_accuracy: 0.9713\n",
      "Epoch 8/20\n",
      "60/60 [==============================] - 4s 69ms/step - loss: 0.1182 - accuracy: 0.9677 - val_loss: 0.0905 - val_accuracy: 0.9718\n",
      "Epoch 9/20\n",
      "60/60 [==============================] - 4s 60ms/step - loss: 0.1087 - accuracy: 0.9693 - val_loss: 0.0844 - val_accuracy: 0.9739\n",
      "Epoch 10/20\n",
      "60/60 [==============================] - 3s 54ms/step - loss: 0.1002 - accuracy: 0.9715 - val_loss: 0.0846 - val_accuracy: 0.9745\n",
      "Epoch 11/20\n",
      "60/60 [==============================] - 3s 51ms/step - loss: 0.0909 - accuracy: 0.9732 - val_loss: 0.0808 - val_accuracy: 0.9753\n",
      "Epoch 12/20\n",
      "60/60 [==============================] - 3s 54ms/step - loss: 0.0828 - accuracy: 0.9756 - val_loss: 0.0807 - val_accuracy: 0.9756\n",
      "Epoch 13/20\n",
      "60/60 [==============================] - 3s 51ms/step - loss: 0.0798 - accuracy: 0.9766 - val_loss: 0.0757 - val_accuracy: 0.9767\n",
      "Epoch 14/20\n",
      "60/60 [==============================] - 3s 53ms/step - loss: 0.0748 - accuracy: 0.9776 - val_loss: 0.0771 - val_accuracy: 0.9770\n",
      "Epoch 15/20\n",
      "60/60 [==============================] - 3s 56ms/step - loss: 0.0687 - accuracy: 0.9791 - val_loss: 0.0738 - val_accuracy: 0.9774\n",
      "Epoch 16/20\n",
      "60/60 [==============================] - 3s 58ms/step - loss: 0.0656 - accuracy: 0.9798 - val_loss: 0.0740 - val_accuracy: 0.9773\n",
      "Epoch 17/20\n",
      "60/60 [==============================] - 4s 72ms/step - loss: 0.0633 - accuracy: 0.9805 - val_loss: 0.0715 - val_accuracy: 0.9791\n",
      "Epoch 18/20\n",
      "60/60 [==============================] - 4s 74ms/step - loss: 0.0553 - accuracy: 0.9830 - val_loss: 0.0719 - val_accuracy: 0.9789\n",
      "Epoch 19/20\n",
      "60/60 [==============================] - 4s 65ms/step - loss: 0.0577 - accuracy: 0.9824 - val_loss: 0.0731 - val_accuracy: 0.9784\n",
      "Epoch 20/20\n",
      "60/60 [==============================] - 4s 61ms/step - loss: 0.0534 - accuracy: 0.9835 - val_loss: 0.0751 - val_accuracy: 0.9791\n"
     ]
    }
   ],
   "source": [
    "#학습 진행\n",
    "hist = model.fit(x_train, y_train, epochs=20, batch_size=1000, validation_data=(x_test,y_test))"
   ]
  },
  {
   "cell_type": "code",
   "execution_count": 47,
   "metadata": {},
   "outputs": [],
   "source": [
    "# 내 손글씨 로드 \n",
    "# pip install opencv-python\n",
    "import glob\n",
    "from PIL import Image\n",
    "import numpy as np \n",
    "import cv2\n",
    "sample = [] \n",
    "\n",
    "groups_folder_path = 'sample' \n",
    "    \n",
    "image_dir = groups_folder_path + '/'\n",
    "files = glob.glob(image_dir + '/*.jpg')\n",
    "    \n",
    "\n",
    "for i in files:\n",
    "   \n",
    "    img = Image.open(i).convert('L')\n",
    "    img = img.resize((28,28))\n",
    "    train = np.asarray(img)\n",
    "    a, train = cv2.threshold(train,100,255,cv2.THRESH_BINARY) \n",
    "    sample.append(train)    \n"
   ]
  },
  {
   "cell_type": "code",
   "execution_count": 48,
   "metadata": {},
   "outputs": [
    {
     "data": {
      "text/plain": [
       "<matplotlib.image.AxesImage at 0x18d4de7af70>"
      ]
     },
     "execution_count": 48,
     "metadata": {},
     "output_type": "execute_result"
    },
    {
     "data": {
      "image/png": "[encoded data removed]",
      "text/plain": [
       "<Figure size 432x288 with 1 Axes>"
      ]
     },
     "metadata": {
      "needs_background": "light"
     },
     "output_type": "display_data"
    }
   ],
   "source": [
    "plt.imshow(sample[9])\n",
    "plt.imshow(x_train[5])"
   ]
  },
  {
   "cell_type": "code",
   "execution_count": 49,
   "metadata": {},
   "outputs": [
    {
     "data": {
      "text/plain": [
       "array([[[[255],\n",
       "         [255],\n",
       "         [255],\n",
       "         ...,\n",
       "         [255],\n",
       "         [255],\n",
       "         [255]],\n",
       "\n",
       "        [[255],\n",
       "         [255],\n",
       "         [255],\n",
       "         ...,\n",
       "         [255],\n",
       "         [255],\n",
       "         [255]],\n",
       "\n",
       "        [[255],\n",
       "         [255],\n",
       "         [255],\n",
       "         ...,\n",
       "         [255],\n",
       "         [255],\n",
       "         [255]],\n",
       "\n",
       "        ...,\n",
       "\n",
       "        [[255],\n",
       "         [255],\n",
       "         [255],\n",
       "         ...,\n",
       "         [255],\n",
       "         [255],\n",
       "         [255]],\n",
       "\n",
       "        [[255],\n",
       "         [255],\n",
       "         [255],\n",
       "         ...,\n",
       "         [255],\n",
       "         [255],\n",
       "         [255]],\n",
       "\n",
       "        [[255],\n",
       "         [255],\n",
       "         [255],\n",
       "         ...,\n",
       "         [255],\n",
       "         [255],\n",
       "         [255]]],\n",
       "\n",
       "\n",
       "       [[[255],\n",
       "         [255],\n",
       "         [255],\n",
       "         ...,\n",
       "         [255],\n",
       "         [255],\n",
       "         [255]],\n",
       "\n",
       "        [[255],\n",
       "         [255],\n",
       "         [255],\n",
       "         ...,\n",
       "         [255],\n",
       "         [255],\n",
       "         [255]],\n",
       "\n",
       "        [[255],\n",
       "         [255],\n",
       "         [255],\n",
       "         ...,\n",
       "         [255],\n",
       "         [255],\n",
       "         [255]],\n",
       "\n",
       "        ...,\n",
       "\n",
       "        [[255],\n",
       "         [255],\n",
       "         [255],\n",
       "         ...,\n",
       "         [255],\n",
       "         [255],\n",
       "         [255]],\n",
       "\n",
       "        [[255],\n",
       "         [255],\n",
       "         [255],\n",
       "         ...,\n",
       "         [255],\n",
       "         [255],\n",
       "         [255]],\n",
       "\n",
       "        [[255],\n",
       "         [255],\n",
       "         [255],\n",
       "         ...,\n",
       "         [255],\n",
       "         [255],\n",
       "         [255]]],\n",
       "\n",
       "\n",
       "       [[[255],\n",
       "         [255],\n",
       "         [255],\n",
       "         ...,\n",
       "         [255],\n",
       "         [255],\n",
       "         [255]],\n",
       "\n",
       "        [[255],\n",
       "         [255],\n",
       "         [255],\n",
       "         ...,\n",
       "         [255],\n",
       "         [255],\n",
       "         [255]],\n",
       "\n",
       "        [[255],\n",
       "         [255],\n",
       "         [255],\n",
       "         ...,\n",
       "         [255],\n",
       "         [255],\n",
       "         [255]],\n",
       "\n",
       "        ...,\n",
       "\n",
       "        [[255],\n",
       "         [255],\n",
       "         [255],\n",
       "         ...,\n",
       "         [255],\n",
       "         [255],\n",
       "         [255]],\n",
       "\n",
       "        [[255],\n",
       "         [255],\n",
       "         [255],\n",
       "         ...,\n",
       "         [255],\n",
       "         [255],\n",
       "         [255]],\n",
       "\n",
       "        [[255],\n",
       "         [255],\n",
       "         [255],\n",
       "         ...,\n",
       "         [255],\n",
       "         [255],\n",
       "         [255]]],\n",
       "\n",
       "\n",
       "       ...,\n",
       "\n",
       "\n",
       "       [[[255],\n",
       "         [255],\n",
       "         [255],\n",
       "         ...,\n",
       "         [255],\n",
       "         [255],\n",
       "         [255]],\n",
       "\n",
       "        [[255],\n",
       "         [255],\n",
       "         [255],\n",
       "         ...,\n",
       "         [255],\n",
       "         [255],\n",
       "         [255]],\n",
       "\n",
       "        [[255],\n",
       "         [255],\n",
       "         [255],\n",
       "         ...,\n",
       "         [255],\n",
       "         [255],\n",
       "         [255]],\n",
       "\n",
       "        ...,\n",
       "\n",
       "        [[255],\n",
       "         [255],\n",
       "         [255],\n",
       "         ...,\n",
       "         [255],\n",
       "         [255],\n",
       "         [255]],\n",
       "\n",
       "        [[255],\n",
       "         [255],\n",
       "         [255],\n",
       "         ...,\n",
       "         [255],\n",
       "         [255],\n",
       "         [255]],\n",
       "\n",
       "        [[255],\n",
       "         [255],\n",
       "         [255],\n",
       "         ...,\n",
       "         [255],\n",
       "         [255],\n",
       "         [255]]],\n",
       "\n",
       "\n",
       "       [[[255],\n",
       "         [255],\n",
       "         [255],\n",
       "         ...,\n",
       "         [255],\n",
       "         [255],\n",
       "         [255]],\n",
       "\n",
       "        [[255],\n",
       "         [255],\n",
       "         [255],\n",
       "         ...,\n",
       "         [255],\n",
       "         [255],\n",
       "         [255]],\n",
       "\n",
       "        [[255],\n",
       "         [255],\n",
       "         [255],\n",
       "         ...,\n",
       "         [255],\n",
       "         [255],\n",
       "         [255]],\n",
       "\n",
       "        ...,\n",
       "\n",
       "        [[255],\n",
       "         [255],\n",
       "         [255],\n",
       "         ...,\n",
       "         [255],\n",
       "         [255],\n",
       "         [255]],\n",
       "\n",
       "        [[255],\n",
       "         [255],\n",
       "         [255],\n",
       "         ...,\n",
       "         [255],\n",
       "         [255],\n",
       "         [255]],\n",
       "\n",
       "        [[255],\n",
       "         [255],\n",
       "         [255],\n",
       "         ...,\n",
       "         [255],\n",
       "         [255],\n",
       "         [255]]],\n",
       "\n",
       "\n",
       "       [[[255],\n",
       "         [255],\n",
       "         [255],\n",
       "         ...,\n",
       "         [255],\n",
       "         [255],\n",
       "         [255]],\n",
       "\n",
       "        [[255],\n",
       "         [255],\n",
       "         [255],\n",
       "         ...,\n",
       "         [255],\n",
       "         [255],\n",
       "         [255]],\n",
       "\n",
       "        [[255],\n",
       "         [255],\n",
       "         [255],\n",
       "         ...,\n",
       "         [255],\n",
       "         [255],\n",
       "         [255]],\n",
       "\n",
       "        ...,\n",
       "\n",
       "        [[255],\n",
       "         [255],\n",
       "         [255],\n",
       "         ...,\n",
       "         [255],\n",
       "         [255],\n",
       "         [255]],\n",
       "\n",
       "        [[255],\n",
       "         [255],\n",
       "         [255],\n",
       "         ...,\n",
       "         [255],\n",
       "         [255],\n",
       "         [255]],\n",
       "\n",
       "        [[255],\n",
       "         [255],\n",
       "         [255],\n",
       "         ...,\n",
       "         [255],\n",
       "         [255],\n",
       "         [255]]]], dtype=uint8)"
      ]
     },
     "execution_count": 49,
     "metadata": {},
     "output_type": "execute_result"
    }
   ],
   "source": [
    "sample = np.array(sample)\n",
    "sample.reshape(10,28,28,1)"
   ]
  },
  {
   "cell_type": "code",
   "execution_count": 50,
   "metadata": {},
   "outputs": [],
   "source": [
    "import cv2\n",
    "sample = cv2.bitwise_not(sample)"
   ]
  },
  {
   "cell_type": "code",
   "execution_count": 51,
   "metadata": {},
   "outputs": [
    {
     "data": {
      "text/plain": [
       "array([[[0, 0, 0, ..., 0, 0, 0],\n",
       "        [0, 0, 0, ..., 0, 0, 0],\n",
       "        [0, 0, 0, ..., 0, 0, 0],\n",
       "        ...,\n",
       "        [0, 0, 0, ..., 0, 0, 0],\n",
       "        [0, 0, 0, ..., 0, 0, 0],\n",
       "        [0, 0, 0, ..., 0, 0, 0]],\n",
       "\n",
       "       [[0, 0, 0, ..., 0, 0, 0],\n",
       "        [0, 0, 0, ..., 0, 0, 0],\n",
       "        [0, 0, 0, ..., 0, 0, 0],\n",
       "        ...,\n",
       "        [0, 0, 0, ..., 0, 0, 0],\n",
       "        [0, 0, 0, ..., 0, 0, 0],\n",
       "        [0, 0, 0, ..., 0, 0, 0]],\n",
       "\n",
       "       [[0, 0, 0, ..., 0, 0, 0],\n",
       "        [0, 0, 0, ..., 0, 0, 0],\n",
       "        [0, 0, 0, ..., 0, 0, 0],\n",
       "        ...,\n",
       "        [0, 0, 0, ..., 0, 0, 0],\n",
       "        [0, 0, 0, ..., 0, 0, 0],\n",
       "        [0, 0, 0, ..., 0, 0, 0]],\n",
       "\n",
       "       ...,\n",
       "\n",
       "       [[0, 0, 0, ..., 0, 0, 0],\n",
       "        [0, 0, 0, ..., 0, 0, 0],\n",
       "        [0, 0, 0, ..., 0, 0, 0],\n",
       "        ...,\n",
       "        [0, 0, 0, ..., 0, 0, 0],\n",
       "        [0, 0, 0, ..., 0, 0, 0],\n",
       "        [0, 0, 0, ..., 0, 0, 0]],\n",
       "\n",
       "       [[0, 0, 0, ..., 0, 0, 0],\n",
       "        [0, 0, 0, ..., 0, 0, 0],\n",
       "        [0, 0, 0, ..., 0, 0, 0],\n",
       "        ...,\n",
       "        [0, 0, 0, ..., 0, 0, 0],\n",
       "        [0, 0, 0, ..., 0, 0, 0],\n",
       "        [0, 0, 0, ..., 0, 0, 0]],\n",
       "\n",
       "       [[0, 0, 0, ..., 0, 0, 0],\n",
       "        [0, 0, 0, ..., 0, 0, 0],\n",
       "        [0, 0, 0, ..., 0, 0, 0],\n",
       "        ...,\n",
       "        [0, 0, 0, ..., 0, 0, 0],\n",
       "        [0, 0, 0, ..., 0, 0, 0],\n",
       "        [0, 0, 0, ..., 0, 0, 0]]], dtype=uint8)"
      ]
     },
     "execution_count": 51,
     "metadata": {},
     "output_type": "execute_result"
    }
   ],
   "source": [
    "sample"
   ]
  },
  {
   "cell_type": "code",
   "execution_count": 52,
   "metadata": {},
   "outputs": [
    {
     "name": "stdout",
     "output_type": "stream",
     "text": [
      "1/1 [==============================] - 0s 236ms/step\n"
     ]
    },
    {
     "data": {
      "text/plain": [
       "8"
      ]
     },
     "execution_count": 52,
     "metadata": {},
     "output_type": "execute_result"
    }
   ],
   "source": [
    "predictions = model.predict(sample)\n",
    "np.argmax(predictions[8])"
   ]
  },
  {
   "cell_type": "code",
   "execution_count": 53,
   "metadata": {},
   "outputs": [
    {
     "data": {
      "image/png": "[encoded data removed]",
      "text/plain": [
       "<Figure size 432x216 with 1 Axes>"
      ]
     },
     "metadata": {},
     "output_type": "display_data"
    }
   ],
   "source": [
    "def plot_image(i, predictions_array, img):\n",
    "    predictions_array, img = predictions_array[i], img[i]\n",
    "    plt.grid(False)\n",
    "    plt.xticks([])\n",
    "    plt.yticks([])\n",
    "\n",
    "    plt.imshow(img, cmap=plt.cm.binary)\n",
    "    predicted_label = np.argmax(predictions_array)\n",
    "    plt.xlabel(\"{},({})\".format(predicted_label,100*np.max(predictions_array))) \n",
    "                                    \n",
    "#test셋과 예측값 / 원래 라벨 비교 ( i에 보고싶은 test셋의 인덱스를 적으세요)\n",
    "\n",
    "\n",
    "i = 0\n",
    "plt.figure(figsize=(6,3))\n",
    "plt.subplot(1,2,1)\n",
    "plot_image(i, predictions, sample)\n",
    "#plt.subplot(1,2,2)    \n",
    "#plot_value_array(i, predictions,  Y_test)\n",
    "plt.show()"
   ]
  },
  {
   "cell_type": "code",
   "execution_count": 54,
   "metadata": {},
   "outputs": [
    {
     "data": {
      "image/png": "[encoded data removed]",
      "text/plain": [
       "<Figure size 720x720 with 10 Axes>"
      ]
     },
     "metadata": {},
     "output_type": "display_data"
    }
   ],
   "source": [
    "plt.figure(figsize=(10,10))\n",
    "for i in range(10):\n",
    "    plt.subplot(5,5,i+1)\n",
    "    plt.xticks([])\n",
    "    plt.yticks([])\n",
    "    plt.grid(False)\n",
    "    plt.imshow(sample[i], cmap=plt.cm.binary)\n",
    "    plt.xlabel(np.argmax(predictions[i]))\n",
    "plt.show()\n"
   ]
  },
  {
   "cell_type": "code",
   "execution_count": 55,
   "metadata": {},
   "outputs": [
    {
     "name": "stdout",
     "output_type": "stream",
     "text": [
      "Test loss: 0.07512693107128143\n",
      "Test accuracy: 0.9790999889373779\n"
     ]
    }
   ],
   "source": [
    "score = model.evaluate(x_test, y_test, verbose=0)\n",
    "print('Test loss:', score[0])\n",
    "print('Test accuracy:', score[1])"
   ]
  },
  {
   "cell_type": "code",
   "execution_count": 56,
   "metadata": {},
   "outputs": [
    {
     "data": {
      "image/png": "[encoded data removed]",
      "text/plain": [
       "<Figure size 432x288 with 1 Axes>"
      ]
     },
     "metadata": {
      "needs_background": "light"
     },
     "output_type": "display_data"
    },
    {
     "ename": "AttributeError",
     "evalue": "'Sequential' object has no attribute 'predict_classes'",
     "output_type": "error",
     "traceback": [
      "\u001b[1;31m---------------------------------------------------------------------------\u001b[0m",
      "\u001b[1;31mAttributeError\u001b[0m                            Traceback (most recent call last)",
      "Input \u001b[1;32mIn [56]\u001b[0m, in \u001b[0;36m<cell line: 7>\u001b[1;34m()\u001b[0m\n\u001b[0;32m      4\u001b[0m plt\u001b[38;5;241m.\u001b[39mimshow(x_test[n]\u001b[38;5;241m.\u001b[39mreshape(\u001b[38;5;241m28\u001b[39m, \u001b[38;5;241m28\u001b[39m), cmap\u001b[38;5;241m=\u001b[39m\u001b[38;5;124m'\u001b[39m\u001b[38;5;124mGreys\u001b[39m\u001b[38;5;124m'\u001b[39m, interpolation\u001b[38;5;241m=\u001b[39m\u001b[38;5;124m'\u001b[39m\u001b[38;5;124mnearest\u001b[39m\u001b[38;5;124m'\u001b[39m)\n\u001b[0;32m      5\u001b[0m plt\u001b[38;5;241m.\u001b[39mshow()\n\u001b[1;32m----> 7\u001b[0m \u001b[38;5;28mprint\u001b[39m(\u001b[38;5;124m'\u001b[39m\u001b[38;5;124m내가 본 글자는 \u001b[39m\u001b[38;5;124m'\u001b[39m, \u001b[43mmodel\u001b[49m\u001b[38;5;241;43m.\u001b[39;49m\u001b[43mpredict_classes\u001b[49m(x_test[n]\u001b[38;5;241m.\u001b[39mreshape((\u001b[38;5;241m1\u001b[39m, \u001b[38;5;241m28\u001b[39m, \u001b[38;5;241m28\u001b[39m))))\n",
      "\u001b[1;31mAttributeError\u001b[0m: 'Sequential' object has no attribute 'predict_classes'"
     ]
    }
   ],
   "source": [
    "import matplotlib.pyplot as plt\n",
    "from matplotlib.image import imread\n",
    "n = 4\n",
    "plt.imshow(x_test[n].reshape(28, 28), cmap='Greys', interpolation='nearest')\n",
    "plt.show()\n",
    "\n",
    "print('내가 본 글자는 ', model.predict_classes(x_test[n].reshape((1, 28, 28))))"
   ]
  },
  {
   "cell_type": "code",
   "execution_count": 57,
   "metadata": {},
   "outputs": [
    {
     "name": "stdout",
     "output_type": "stream",
     "text": [
      "313/313 [==============================] - 2s 6ms/step\n"
     ]
    }
   ],
   "source": [
    "import random\n",
    "\n",
    "predicted_result = model.predict(x_test)\n",
    "predicted_labels = np.argmax(predicted_result, axis=1)\n",
    "\n",
    "test_labels = np.argmax(y_test, axis=0)\n",
    "\n",
    "wrong_result = []\n",
    "\n"
   ]
  },
  {
   "cell_type": "code",
   "execution_count": 58,
   "metadata": {},
   "outputs": [
    {
     "data": {
      "text/plain": [
       "7"
      ]
     },
     "execution_count": 58,
     "metadata": {},
     "output_type": "execute_result"
    }
   ],
   "source": [
    "#test_labels\n",
    "predicted_labels[0]"
   ]
  },
  {
   "cell_type": "code",
   "execution_count": 18,
   "metadata": {},
   "outputs": [],
   "source": [
    "model.save('myhand_CNN_model.h5')"
   ]
  }
 ],
 "metadata": {
  "kernelspec": {
   "display_name": "Python 3 (ipykernel)",
   "language": "python",
   "name": "python3"
  },
  "language_info": {
   "codemirror_mode": {
    "name": "ipython",
    "version": 3
   },
   "file_extension": ".py",
   "mimetype": "text/x-python",
   "name": "python",
   "nbconvert_exporter": "python",
   "pygments_lexer": "ipython3",
   "version": "3.9.12"
  }
 },
 "nbformat": 4,
 "nbformat_minor": 2
}
